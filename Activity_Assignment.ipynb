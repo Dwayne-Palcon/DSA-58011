{
  "nbformat": 4,
  "nbformat_minor": 0,
  "metadata": {
    "colab": {
      "provenance": [],
      "authorship_tag": "ABX9TyO2Zq8pljf39ExhpTWsvZT7",
      "include_colab_link": true
    },
    "kernelspec": {
      "name": "python3",
      "display_name": "Python 3"
    },
    "language_info": {
      "name": "python"
    }
  },
  "cells": [
    {
      "cell_type": "markdown",
      "metadata": {
        "id": "view-in-github",
        "colab_type": "text"
      },
      "source": [
        "<a href=\"https://colab.research.google.com/github/Palcon18/DSA-58011/blob/main/Activity_Assignment.ipynb\" target=\"_parent\"><img src=\"https://colab.research.google.com/assets/colab-badge.svg\" alt=\"Open In Colab\"/></a>"
      ]
    },
    {
      "cell_type": "code",
      "execution_count": 28,
      "metadata": {
        "colab": {
          "base_uri": "https://localhost:8080/"
        },
        "id": "RlSMie2XdHny",
        "outputId": "53069e21-a26a-4259-d3ac-6af342a039bc"
      },
      "outputs": [
        {
          "output_type": "stream",
          "name": "stdout",
          "text": [
            "Pushed Element: 1\n",
            "Pushed Element: 2\n",
            "Pushed Element: 3\n",
            "Pushed Element: 4\n",
            "Pushed Element: 5\n",
            "0~~~0~~~0~~~0~~~0\n",
            "The elements in the stack are:['1', '2', '3', '4', '5']\n",
            "Pop 3 Elements: ['1', '2']\n",
            "Length: 2\n"
          ]
        }
      ],
      "source": [
        "# Creating a stack\n",
        "\n",
        "def create_stack():\n",
        "    stack = []\n",
        "    return stack\n",
        "\n",
        "# Creating an empty stack\n",
        "\n",
        "def is_empty(stack):\n",
        "    return len(stack) == 0\n",
        "\n",
        "# Adding items into the stack\n",
        "\n",
        "def push(stack, item):\n",
        "    stack.append(item)\n",
        "    print(\"Pushed Element: \" + item)\n",
        "\n",
        "# Removing an element from the stack\n",
        "\n",
        "def pop(stack):\n",
        "    if (is_empty(stack)):\n",
        "        return \"The stack is empty\"\n",
        "    return stack.pop()\n",
        "\n",
        "def popElement(stack):\n",
        "  stack.pop()\n",
        "  stack.pop()\n",
        "  stack.pop()\n",
        "  return stack\n",
        "\n",
        "def stack_counter(stack):\n",
        "  count = 0\n",
        "  for i in stack:\n",
        "    count += 1\n",
        "  return count\n",
        "  \n",
        "stack = create_stack()\n",
        "push(stack, str(1))\n",
        "push(stack, str(2))\n",
        "push(stack, str(3))\n",
        "push(stack, str(4))\n",
        "push(stack, str(5))\n",
        "print('0~~~0~~~0~~~0~~~0')\n",
        "print(\"The elements in the stack are:\"+ str(stack))\n",
        "print(\"Pop 3 Elements:\",popElement(stack))\n",
        "print(\"Length:\",stack_counter(stack))"
      ]
    }
  ]
}