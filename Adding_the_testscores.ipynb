{
  "nbformat": 4,
  "nbformat_minor": 0,
  "metadata": {
    "colab": {
      "name": "Adding the testscores.ipynb",
      "provenance": [],
      "authorship_tag": "ABX9TyNue5XOEEkBXGla7msDsMfD",
      "include_colab_link": true
    },
    "kernelspec": {
      "name": "python3",
      "display_name": "Python 3"
    },
    "language_info": {
      "name": "python"
    }
  },
  "cells": [
    {
      "cell_type": "markdown",
      "metadata": {
        "id": "view-in-github",
        "colab_type": "text"
      },
      "source": [
        "<a href=\"https://colab.research.google.com/github/Palcon18/DSA-58011/blob/main/Adding_the_testscores.ipynb\" target=\"_parent\"><img src=\"https://colab.research.google.com/assets/colab-badge.svg\" alt=\"Open In Colab\"/></a>"
      ]
    },
    {
      "cell_type": "code",
      "execution_count": 10,
      "metadata": {
        "colab": {
          "base_uri": "https://localhost:8080/"
        },
        "id": "O_Y5u9vJWOad",
        "outputId": "37a2f727-3663-4b48-b278-29b32d3f3d2b"
      },
      "outputs": [
        {
          "output_type": "stream",
          "name": "stdout",
          "text": [
            "testscore: 1\n",
            "testscore: 2\n",
            "1  +  2  =  3\n",
            "testscore 3\n",
            "3  +  3  =  6\n",
            "testscore 4\n",
            "6  +  4  =  10\n",
            "testscore 5\n",
            "10  +  5  =  15\n",
            "testscore 6\n",
            "15  +  6  =  21\n",
            "Total score: 21\n"
          ]
        }
      ],
      "source": [
        "num1 = int(input(\"testscore: \"))\n",
        "num2 = int(input(\"testscore: \"))\n",
        "result1=num1+num2\n",
        "print(num1,\" + \",num2,\" = \", result1)\n",
        "\n",
        "num3 = int(input(\"testscore \"))\n",
        "result2=result1+num3\n",
        "print(result1,\" + \",num3,\" = \",result2)\n",
        "\n",
        "num4 = int(input(\"testscore \"))\n",
        "result3=result2+num4\n",
        "print(result2,\" + \",num4,\" = \",result3)\n",
        "\n",
        "num5 = int(input(\"testscore \"))\n",
        "result4=result3+num5\n",
        "print(result3,\" + \",num5,\" = \",result4)\n",
        "\n",
        "num6 = int(input(\"testscore \"))\n",
        "Totalscore=result4+num6\n",
        "print(result4,\" + \",num6,\" = \",Totalscore)\n",
        "print(\"Total score:\",Totalscore)"
      ]
    }
  ]
}