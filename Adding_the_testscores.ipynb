{
  "nbformat": 4,
  "nbformat_minor": 0,
  "metadata": {
    "colab": {
      "name": "Adding the testscores.ipynb",
      "provenance": [],
      "authorship_tag": "ABX9TyNue5XOEEkBXGla7msDsMfD",
      "include_colab_link": true
    },
    "kernelspec": {
      "name": "python3",
      "display_name": "Python 3"
    },
    "language_info": {
      "name": "python"
    }
  },
  "cells": [
    {
      "cell_type": "markdown",
      "metadata": {
        "id": "view-in-github",
        "colab_type": "text"
      },
      "source": [
        "<a href=\"https://colab.research.google.com/github/Palcon18/DSA-58011/blob/main/Adding_the_testscores.ipynb\" target=\"_parent\"><img src=\"https://colab.research.google.com/assets/colab-badge.svg\" alt=\"Open In Colab\"/></a>"
      ]
    },
    {
      "cell_type": "code",
      "execution_count": 11,
      "metadata": {
        "colab": {
          "base_uri": "https://localhost:8080/"
        },
        "id": "O_Y5u9vJWOad",
        "outputId": "ebb281c3-b071-4acd-c769-96787766a590"
      },
      "outputs": [
        {
          "output_type": "stream",
          "name": "stdout",
          "text": [
            "testscore: 26\n",
            "testscore: 49\n",
            "26  +  49  =  75\n",
            "testscore 98\n",
            "75  +  98  =  173\n",
            "testscore 87\n",
            "173  +  87  =  260\n",
            "testscore 62\n",
            "260  +  62  =  322\n",
            "testscore 75\n",
            "322  +  75  =  397\n",
            "Total score: 397\n"
          ]
        }
      ],
      "source": [
        "num1 = int(input(\"testscore: \"))\n",
        "num2 = int(input(\"testscore: \"))\n",
        "result1=num1+num2\n",
        "print(num1,\" + \",num2,\" = \", result1)\n",
        "\n",
        "num3 = int(input(\"testscore \"))\n",
        "result2=result1+num3\n",
        "print(result1,\" + \",num3,\" = \",result2)\n",
        "\n",
        "num4 = int(input(\"testscore \"))\n",
        "result3=result2+num4\n",
        "print(result2,\" + \",num4,\" = \",result3)\n",
        "\n",
        "num5 = int(input(\"testscore \"))\n",
        "result4=result3+num5\n",
        "print(result3,\" + \",num5,\" = \",result4)\n",
        "\n",
        "num6 = int(input(\"testscore \"))\n",
        "Totalscore=result4+num6\n",
        "print(result4,\" + \",num6,\" = \",Totalscore)\n",
        "print(\"Total score:\",Totalscore)"
      ]
    }
  ]
}