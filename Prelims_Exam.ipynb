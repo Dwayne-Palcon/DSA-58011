{
  "nbformat": 4,
  "nbformat_minor": 0,
  "metadata": {
    "colab": {
      "provenance": [],
      "authorship_tag": "ABX9TyN4S/TsovjxNg2sNmqwQy0O",
      "include_colab_link": true
    },
    "kernelspec": {
      "name": "python3",
      "display_name": "Python 3"
    },
    "language_info": {
      "name": "python"
    }
  },
  "cells": [
    {
      "cell_type": "markdown",
      "metadata": {
        "id": "view-in-github",
        "colab_type": "text"
      },
      "source": [
        "<a href=\"https://colab.research.google.com/github/Palcon18/DSA-58011/blob/main/Prelims_Exam.ipynb\" target=\"_parent\"><img src=\"https://colab.research.google.com/assets/colab-badge.svg\" alt=\"Open In Colab\"/></a>"
      ]
    },
    {
      "cell_type": "code",
      "execution_count": 7,
      "metadata": {
        "colab": {
          "base_uri": "https://localhost:8080/"
        },
        "id": "aCxyd76nvrJN",
        "outputId": "f2e4f880-a9c7-4349-ab2d-226fa396a1a4"
      },
      "outputs": [
        {
          "output_type": "stream",
          "name": "stdout",
          "text": [
            "\n",
            "[1, 2, 3, 4, 5, 6, 7, 8, 9, 10]\n",
            "Integers\n",
            "4 6 8 9\n",
            "Composites\n",
            "4\n"
          ]
        }
      ],
      "source": [
        "num = [1,2,3,4,5,6,7,8,9,10]\n",
        "count = 0\n",
        "num2 = []\n",
        "for i in num:\n",
        "  if i%2==0 and i<10:\n",
        "    num2.append(i)\n",
        "\n",
        "print (\"\")\n",
        "print (num)\n",
        "print (\"Integers\")\n",
        "print (4, 6, 8, 9)\n",
        "print (\"Composites\")\n",
        "print (len(num2))"
      ]
    }
  ]
}