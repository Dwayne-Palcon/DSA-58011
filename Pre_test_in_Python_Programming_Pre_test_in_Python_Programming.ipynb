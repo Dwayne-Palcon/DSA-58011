{
  "nbformat": 4,
  "nbformat_minor": 0,
  "metadata": {
    "colab": {
      "name": "Pre-test in Python Programming Pre-test in Python Programming.ipynb",
      "provenance": [],
      "include_colab_link": true
    },
    "kernelspec": {
      "name": "python3",
      "display_name": "Python 3"
    },
    "language_info": {
      "name": "python"
    }
  },
  "cells": [
    {
      "cell_type": "markdown",
      "metadata": {
        "id": "view-in-github",
        "colab_type": "text"
      },
      "source": [
        "<a href=\"https://colab.research.google.com/github/Palcon18/DSA-58011/blob/main/Pre_test_in_Python_Programming_Pre_test_in_Python_Programming.ipynb\" target=\"_parent\"><img src=\"https://colab.research.google.com/assets/colab-badge.svg\" alt=\"Open In Colab\"/></a>"
      ]
    },
    {
      "cell_type": "code",
      "execution_count": null,
      "metadata": {
        "colab": {
          "base_uri": "https://localhost:8080/"
        },
        "id": "w60ugnKIR0S8",
        "outputId": "43f00180-a757-4c46-b57d-ff2eb82e9868"
      },
      "outputs": [
        {
          "output_type": "stream",
          "name": "stdout",
          "text": [
            "Ana\n",
            "39\n"
          ]
        }
      ],
      "source": [
        "class Person:\n",
        "  def __init__(self, name, age):\n",
        "      self.name = name\n",
        "      self.age = age\n",
        "\n",
        "person = Person(\"Ana\",39)\n",
        "print(person.name)\n",
        "print(person.age)   "
      ]
    },
    {
      "cell_type": "code",
      "source": [
        "class Shape:\n",
        "  def triangle(self):\n",
        "    return \"4 sides are equal\"\n",
        "  def rectangle(self):\n",
        "    return \"2 sides are equal\"\n",
        "\n",
        "class Polygon(Shape):\n",
        "  def triangle(self):\n",
        "      return \"has edges and vertices\"\n",
        "\n",
        "object = Polygon()\n",
        "\n",
        "object.triangle()"
      ],
      "metadata": {
        "colab": {
          "base_uri": "https://localhost:8080/",
          "height": 36
        },
        "id": "ArfmgNfjSO4m",
        "outputId": "db6a2fa7-038e-4b11-806e-2b5a889f562d"
      },
      "execution_count": null,
      "outputs": [
        {
          "output_type": "execute_result",
          "data": {
            "text/plain": [
              "'has edges and vertices'"
            ],
            "application/vnd.google.colaboratory.intrinsic+json": {
              "type": "string"
            }
          },
          "metadata": {},
          "execution_count": 2
        }
      ]
    },
    {
      "cell_type": "code",
      "source": [
        "class Cat:\n",
        "  def __init__(self, name):\n",
        "\n",
        "    self.name = name\n",
        "\n",
        "missy = Cat('Missy')\n",
        "lucky = Cat('Lucky')\n",
        "\n",
        "print(missy.name)\n",
        "print(lucky.name)"
      ],
      "metadata": {
        "colab": {
          "base_uri": "https://localhost:8080/"
        },
        "id": "YBxgjCrXStGe",
        "outputId": "f62dbfda-67b8-4382-95fd-636c30684f85"
      },
      "execution_count": null,
      "outputs": [
        {
          "output_type": "stream",
          "name": "stdout",
          "text": [
            "Missy\n",
            "Lucky\n"
          ]
        }
      ]
    },
    {
      "cell_type": "code",
      "source": [
        "class Rectangle:\n",
        "  def __init__(self,length,width):\n",
        "    self.length = length\n",
        "    self.width = width\n",
        "\n",
        "  def Area(self):\n",
        "    print(self.length * self.width)\n",
        "\n",
        "rect = Rectangle(7, 3)\n",
        "rect.Area()"
      ],
      "metadata": {
        "colab": {
          "base_uri": "https://localhost:8080/"
        },
        "id": "Sou0uZZ7THh5",
        "outputId": "499ae417-2a44-49a7-857a-b6c0019d3443"
      },
      "execution_count": null,
      "outputs": [
        {
          "output_type": "stream",
          "name": "stdout",
          "text": [
            "21\n"
          ]
        }
      ]
    },
    {
      "cell_type": "code",
      "source": [
        "class Rectangle:\n",
        "  def __init__(self,length,width):\n",
        "    self.length = length\n",
        "    self.width = width\n",
        "\n",
        "  def Area(self):\n",
        "    print(self.length * self.width)\n",
        "\n",
        "class Perimeter:\n",
        "  def __init__(self,length,width):\n",
        "    self.length = length\n",
        "    self.width = width\n",
        "\n",
        "  def Area(self):\n",
        "    print(self.length *2+self.width*2)\n",
        "\n",
        "rect = Rectangle(7, 3)\n",
        "rect.Area()\n",
        "peri = Perimeter(7, 3)\n",
        "peri.Area()"
      ],
      "metadata": {
        "colab": {
          "base_uri": "https://localhost:8080/"
        },
        "id": "eaalYHWZUCUN",
        "outputId": "8443361b-43cd-45dc-8fd3-87780169196d"
      },
      "execution_count": 1,
      "outputs": [
        {
          "output_type": "stream",
          "name": "stdout",
          "text": [
            "21\n",
            "20\n"
          ]
        }
      ]
    }
  ]
}