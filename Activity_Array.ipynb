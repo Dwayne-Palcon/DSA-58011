{
  "nbformat": 4,
  "nbformat_minor": 0,
  "metadata": {
    "colab": {
      "provenance": [],
      "authorship_tag": "ABX9TyNW18DeDb7HEfAJO7WpUVLp",
      "include_colab_link": true
    },
    "kernelspec": {
      "name": "python3",
      "display_name": "Python 3"
    },
    "language_info": {
      "name": "python"
    }
  },
  "cells": [
    {
      "cell_type": "markdown",
      "metadata": {
        "id": "view-in-github",
        "colab_type": "text"
      },
      "source": [
        "<a href=\"https://colab.research.google.com/github/Palcon18/DSA-58011/blob/main/Activity_Array.ipynb\" target=\"_parent\"><img src=\"https://colab.research.google.com/assets/colab-badge.svg\" alt=\"Open In Colab\"/></a>"
      ]
    },
    {
      "cell_type": "markdown",
      "source": [
        "Write a Python program to create an array of 10 integers and display the array items. Access individual elements through indexes and compute for the sum."
      ],
      "metadata": {
        "id": "tdqKryymaZZA"
      }
    },
    {
      "cell_type": "code",
      "execution_count": 8,
      "metadata": {
        "colab": {
          "base_uri": "https://localhost:8080/"
        },
        "id": "Bh4Akyl1RuLX",
        "outputId": "46d5e40c-84f4-4f0a-9eb4-77c770b3641f"
      },
      "outputs": [
        {
          "output_type": "stream",
          "name": "stdout",
          "text": [
            "1\n",
            "2\n",
            "3\n",
            "4\n",
            "5\n",
            "6\n",
            "7\n",
            "8\n",
            "9\n",
            "10\n",
            "========\n",
            "4\n",
            "7\n",
            "10\n",
            "4  +  7  +  10  =  21\n"
          ]
        }
      ],
      "source": [
        "from array import *\n",
        "array_num = array('i', [1,2,3,4,5,6,7,8,9,10])\n",
        "for i in array_num:\n",
        "    print(i)\n",
        "print(\"========\")\n",
        "print(array_num[3])\n",
        "print(array_num[6])\n",
        "print(array_num[9])\n",
        "result=array_num[3]+(array_num[6])+(array_num[9])\n",
        "print(array_num[3],\" + \",array_num[6],\" + \",array_num[9],\" = \",result)\n"
      ]
    },
    {
      "cell_type": "markdown",
      "source": [
        "Write a Python program to append a new item to the end of the array. Original array: numbers = [1, 2, 3, 4, 5, 6, 7, 8, 9, 10]"
      ],
      "metadata": {
        "id": "vPYeKSflagNM"
      }
    },
    {
      "cell_type": "markdown",
      "source": [],
      "metadata": {
        "id": "x2W4N31mai0G"
      }
    },
    {
      "cell_type": "code",
      "source": [
        "from array import *\n",
        "array_num = array('i', [1,2,3,4,5,6,7,8,9,10])\n",
        "print(\"Original array: \"+str(array_num))\n",
        "print(\"Append 11 at the end of the array:\")\n",
        "array_num.append(11)\n",
        "print(\"New array: \"+str(array_num))\n"
      ],
      "metadata": {
        "colab": {
          "base_uri": "https://localhost:8080/"
        },
        "id": "BcxQ7bvwUbEw",
        "outputId": "f8ee3abe-97f0-4f42-ff58-c1ae65eb9d08"
      },
      "execution_count": 12,
      "outputs": [
        {
          "output_type": "stream",
          "name": "stdout",
          "text": [
            "Original array: array('i', [1, 2, 3, 4, 5, 6, 7, 8, 9, 10])\n",
            "Append 11 at the end of the array:\n",
            "New array: array('i', [1, 2, 3, 4, 5, 6, 7, 8, 9, 10, 11])\n"
          ]
        }
      ]
    },
    {
      "cell_type": "markdown",
      "source": [
        "Write a Python program to insert a new item before the second element in an existing array. Original array: numbers = [1, 2, 3, 4, 5, 6, 7, 8, 9, 10]"
      ],
      "metadata": {
        "id": "KNN-7r7vak-r"
      }
    },
    {
      "cell_type": "code",
      "source": [
        "from array import *\n",
        "array_num = array('i', [1,2,3,4,5,6,7,8,9,10])\n",
        "print(\"Original array: \"+str(array_num))\n",
        "print(\"Insert new value 4 before 3:\")\n",
        "array_num.insert(1, 4)\n",
        "print(\"New array: \"+str(array_num))"
      ],
      "metadata": {
        "colab": {
          "base_uri": "https://localhost:8080/"
        },
        "id": "eniLFneIaJDn",
        "outputId": "1bba0700-0e25-4f05-8c09-06789fd234a5"
      },
      "execution_count": 13,
      "outputs": [
        {
          "output_type": "stream",
          "name": "stdout",
          "text": [
            "Original array: array('i', [1, 2, 3, 4, 5, 6, 7, 8, 9, 10])\n",
            "Insert new value 4 before 3:\n",
            "New array: array('i', [1, 4, 2, 3, 4, 5, 6, 7, 8, 9, 10])\n"
          ]
        }
      ]
    },
    {
      "cell_type": "markdown",
      "source": [
        "Write a Python program to reverse the order of the items in the array.Original array: numbers = [5, 4, 3, 2, 1]"
      ],
      "metadata": {
        "id": "Kv6PrJL9bmvm"
      }
    },
    {
      "cell_type": "code",
      "source": [
        "from array import *\n",
        "array_num = array('i', [5,4,3,2,1])\n",
        "print(\"Original array: \"+str(array_num))\n",
        "array_num.reverse()\n",
        "print(\"Reverse the order of the items:\")\n",
        "print(str(array_num))"
      ],
      "metadata": {
        "colab": {
          "base_uri": "https://localhost:8080/"
        },
        "id": "-8CNPnQ7bnp0",
        "outputId": "85412366-e32f-4017-cba4-a4e50c3f6cd1"
      },
      "execution_count": 14,
      "outputs": [
        {
          "output_type": "stream",
          "name": "stdout",
          "text": [
            "Original array: array('i', [5, 4, 3, 2, 1])\n",
            "Reverse the order of the items:\n",
            "array('i', [1, 2, 3, 4, 5])\n"
          ]
        }
      ]
    },
    {
      "cell_type": "markdown",
      "source": [
        "Write a Python program to get the length of the array. Original array: numbers = [5, 4, 3, 2, 1]"
      ],
      "metadata": {
        "id": "6cQxjyBIcDei"
      }
    },
    {
      "cell_type": "code",
      "source": [
        "from array import *\n",
        "array_num = array('i', [5,4,3,2,1])\n",
        "print(\"Original array: \"+str(array_num))\n",
        "print(\"Length in bytes of one array item: \"+str(array_num.itemsize))"
      ],
      "metadata": {
        "colab": {
          "base_uri": "https://localhost:8080/"
        },
        "id": "B5DeWq80cDld",
        "outputId": "5530bfbf-391e-4295-d5e0-2791d1af265e"
      },
      "execution_count": 15,
      "outputs": [
        {
          "output_type": "stream",
          "name": "stdout",
          "text": [
            "Original array: array('i', [5, 4, 3, 2, 1])\n",
            "Length in bytes of one array item: 4\n"
          ]
        }
      ]
    }
  ]
}