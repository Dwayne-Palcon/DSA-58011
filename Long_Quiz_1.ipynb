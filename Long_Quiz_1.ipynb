{
  "nbformat": 4,
  "nbformat_minor": 0,
  "metadata": {
    "colab": {
      "provenance": [],
      "authorship_tag": "ABX9TyOW3p0SvCU6HQLfj1qCfQNR",
      "include_colab_link": true
    },
    "kernelspec": {
      "name": "python3",
      "display_name": "Python 3"
    },
    "language_info": {
      "name": "python"
    }
  },
  "cells": [
    {
      "cell_type": "markdown",
      "metadata": {
        "id": "view-in-github",
        "colab_type": "text"
      },
      "source": [
        "<a href=\"https://colab.research.google.com/github/Palcon18/DSA-58011/blob/main/Long_Quiz_1.ipynb\" target=\"_parent\"><img src=\"https://colab.research.google.com/assets/colab-badge.svg\" alt=\"Open In Colab\"/></a>"
      ]
    },
    {
      "cell_type": "code",
      "execution_count": 8,
      "metadata": {
        "id": "dxTg0uiCdXOn",
        "colab": {
          "base_uri": "https://localhost:8080/"
        },
        "outputId": "c552dd21-7a5d-4816-d37e-6bb62fa6c6b6"
      },
      "outputs": [
        {
          "output_type": "stream",
          "name": "stdout",
          "text": [
            "First Name : dwayne\n",
            "Last Name : palcon\n",
            "Middle initial: c\n",
            "Bagsak kana palcon dwayne c\n"
          ]
        }
      ],
      "source": [
        "fname = input(\"First Name : \")\n",
        "lname = input(\"Last Name : \")\n",
        "Mname = input(\"Middle initial: \")\n",
        "print (\"Bagsak kana \" + lname + \" \" + fname + \" \" + Mname)"
      ]
    },
    {
      "cell_type": "markdown",
      "source": [
        "or"
      ],
      "metadata": {
        "id": "qr9Z8dEXjLlr"
      }
    },
    {
      "cell_type": "code",
      "source": [
        "class Node:\n",
        "\n",
        "    def __init__(self, data):\n",
        "        self.data = data\n",
        "        self.next = None\n",
        "  \n",
        "class LinkedList:\n",
        "  \n",
        "    def __init__(self):\n",
        "        self.head = None\n",
        "  \n",
        "    def reverse(self):\n",
        "        prev = None\n",
        "        current = self.head\n",
        "        while(current is not None):\n",
        "            next = current.next\n",
        "            current.next = prev\n",
        "            prev = current\n",
        "            current = next\n",
        "        self.head = prev\n",
        "\n",
        "    def push(self, new_data):\n",
        "        new_node = Node(new_data)\n",
        "        new_node.next = self.head\n",
        "        self.head = new_node\n",
        " \n",
        "    def printList(self):\n",
        "        temp = self.head\n",
        "        while(temp):\n",
        "            print (temp.data,end=\" \")\n",
        "            temp = temp.next\n",
        "\n",
        "llist = LinkedList()\n",
        "llist.push(\"Palcon\")\n",
        "llist.push(\"Marel\")\n",
        "llist.push(\"Dwayne\")\n",
        "  \n",
        "print (\"Full Name:\")\n",
        "llist.printList()\n",
        "llist.reverse()\n",
        "print (\"\\nReversed Full Name:\")\n",
        "llist.printList()"
      ],
      "metadata": {
        "id": "6nMVHQvejK-j",
        "colab": {
          "base_uri": "https://localhost:8080/"
        },
        "outputId": "3a79999b-bfc4-426f-b51d-30680f7737f2"
      },
      "execution_count": 9,
      "outputs": [
        {
          "output_type": "stream",
          "name": "stdout",
          "text": [
            "Full Name:\n",
            "Dwayne Marel Palcon \n",
            "Reversed Full Name:\n",
            "Palcon Marel Dwayne "
          ]
        }
      ]
    }
  ]
}